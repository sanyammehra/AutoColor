{
 "cells": [
  {
   "cell_type": "code",
   "execution_count": 19,
   "metadata": {
    "collapsed": true
   },
   "outputs": [],
   "source": [
    "import tensorflow as tf\n",
    "import numpy as np\n",
    "import math\n",
    "import matplotlib.image as mpimg\n",
    "import glob\n",
    "\n"
   ]
  },
  {
   "cell_type": "code",
   "execution_count": 20,
   "metadata": {
    "collapsed": false
   },
   "outputs": [],
   "source": [
    "def read_data():\n",
    "\tinput_image = []\n",
    "\ti = 0\n",
    "\tfor filename in glob.iglob('../data/tiny-imagenet-200/train/**/*.JPEG',recursive=True):\n",
    "\t\timg = mpimg.imread(filename)\n",
    "\t\tif(img.shape == (64,64,3)):\n",
    "\t\t\tinput_image.append(list(mpimg.imread(filename)))\n",
    "\t\tif(i%10000 == 0):\n",
    "\t\t\tprint(i)\n",
    "\t\ti+=1\n",
    "\t\t#if(i>5000):\n",
    "\t\t#\tbreak\n",
    "\n",
    "\treturn np.asarray(input_image)"
   ]
  },
  {
   "cell_type": "code",
   "execution_count": 21,
   "metadata": {
    "collapsed": false
   },
   "outputs": [
    {
     "name": "stdout",
     "output_type": "stream",
     "text": [
      "0\n",
      "10000\n",
      "20000\n",
      "30000\n",
      "40000\n",
      "50000\n",
      "60000\n",
      "70000\n",
      "80000\n",
      "90000\n",
      "(98179, 64, 64, 3)\n"
     ]
    }
   ],
   "source": [
    "image_data = read_data()\n",
    "print (image_data.shape)\n"
   ]
  },
  {
   "cell_type": "code",
   "execution_count": 22,
   "metadata": {
    "collapsed": true
   },
   "outputs": [],
   "source": [
    "### Converting RGB TO GRAYSCALE DEMO MODEL\n",
    "\n",
    "def simple_rgb_to_gray(X,Y):\n",
    "\tWconv1 = tf.get_variable(\"Wconv1\", shape=[1, 1, 3, 1])\n",
    "\tbconv1 = tf.get_variable(\"bconv1\", shape=[1])\n",
    "\ty_out = tf.nn.conv2d(X, Wconv1, strides=[1,1,1,1], padding='SAME')\n",
    "\ty_out = y_out[:,:,:,0]\n",
    "\treturn y_out\n",
    "\n",
    "def rgb2gray(rgb):\n",
    "    return np.dot(rgb[...,:3], [0.299, 0.587, 0.114])\n"
   ]
  },
  {
   "cell_type": "code",
   "execution_count": 23,
   "metadata": {
    "collapsed": false
   },
   "outputs": [
    {
     "name": "stdout",
     "output_type": "stream",
     "text": [
      "3.81945e+08\n",
      "7.91294e+06\n",
      "261196.0\n",
      "2890.45\n",
      "40.8482\n",
      "1.20239\n",
      "0.00367048\n",
      "0.000115009\n",
      "8.75046e-06\n",
      "8.03367e-06\n",
      "5.72398e-06\n",
      "7.91956e-06\n"
     ]
    }
   ],
   "source": [
    "X = tf.placeholder(tf.float32, [None, 64, 64, 3])\n",
    "Y = tf.placeholder(tf.float32 ,[None , 64,64])\n",
    "y_out = simple_rgb_to_gray(X,Y)\n",
    "loss = tf.nn.l2_loss(y_out - Y)\n",
    "optimiser = tf.train.AdamOptimizer(0.4)\n",
    "train_step = optimiser.minimize(loss)\n",
    "\n",
    "sess = tf.Session()\n",
    "sess.run(tf.global_variables_initializer())\n",
    "\n",
    "\n",
    "for i in range(600):\n",
    "    \n",
    "\tfeed_dict = {X: image_data[i*100:100*i+100], Y: rgb2gray(image_data[i*100:i*100+100])}\n",
    "\tlosses,_ = sess.run([loss,train_step],feed_dict)\n",
    "\tif(i%50 ==0):\n",
    "\t\tprint (losses)"
   ]
  },
  {
   "cell_type": "code",
   "execution_count": 24,
   "metadata": {
    "collapsed": false
   },
   "outputs": [
    {
     "name": "stdout",
     "output_type": "stream",
     "text": [
      "['Wconv1:0', 'bconv1:0']\n",
      "[[[[ 0.29899999]\n",
      "   [ 0.58700001]\n",
      "   [ 0.11399999]]]]\n",
      "Observe that weights are close to [0.299,0.587,0.114] , hence it learns rgb to gray conversion\n"
     ]
    }
   ],
   "source": [
    "var  = tf.trainable_variables()\n",
    "var = [v.name for v in tf.trainable_variables() ]\n",
    "print (var)\n",
    "numpy_val = sess.run([var[0]])\n",
    "weights = np.asarray(numpy_val[0])\n",
    "print (weights)\n",
    "\n",
    "print (\"Observe that weights are close to [0.299,0.587,0.114] , hence it learns rgb to gray conversion\")"
   ]
  },
  {
   "cell_type": "code",
   "execution_count": null,
   "metadata": {
    "collapsed": true
   },
   "outputs": [],
   "source": []
  }
 ],
 "metadata": {
  "kernelspec": {
   "display_name": "Python 3",
   "language": "python",
   "name": "python3"
  },
  "language_info": {
   "codemirror_mode": {
    "name": "ipython",
    "version": 3
   },
   "file_extension": ".py",
   "mimetype": "text/x-python",
   "name": "python",
   "nbconvert_exporter": "python",
   "pygments_lexer": "ipython3",
   "version": "3.5.2"
  }
 },
 "nbformat": 4,
 "nbformat_minor": 0
}
