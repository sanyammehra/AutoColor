{
 "cells": [
  {
   "cell_type": "code",
   "execution_count": 1,
   "metadata": {
    "collapsed": true
   },
   "outputs": [],
   "source": [
    "import tensorflow as tf\n",
    "import numpy as np\n",
    "import math\n",
    "import matplotlib.image as mpimg\n",
    "import glob\n",
    "\n"
   ]
  },
  {
   "cell_type": "code",
   "execution_count": 2,
   "metadata": {
    "collapsed": false
   },
   "outputs": [],
   "source": [
    "def read_data():\n",
    "\tinput_image = []\n",
    "\ti = 0\n",
    "\tfor filename in glob.iglob('../data/tiny-imagenet-200/train/**/*.JPEG',recursive=True):\n",
    "\t\timg = mpimg.imread(filename)\n",
    "\t\tif(img.shape == (64,64,3)):\n",
    "\t\t\tinput_image.append(list(mpimg.imread(filename)))\n",
    "\t\tif(i%10000 == 0):\n",
    "\t\t\tprint(i)\n",
    "\t\ti+=1\n",
    "\t\t#if(i>5000):\n",
    "\t\t#\tbreak\n",
    "\n",
    "\treturn np.asarray(input_image)"
   ]
  },
  {
   "cell_type": "code",
   "execution_count": 3,
   "metadata": {
    "collapsed": false
   },
   "outputs": [
    {
     "name": "stdout",
     "output_type": "stream",
     "text": [
      "0\n",
      "10000\n",
      "20000\n",
      "30000\n",
      "40000\n",
      "50000\n",
      "60000\n",
      "70000\n",
      "80000\n",
      "90000\n",
      "(98179, 64, 64, 3)\n"
     ]
    }
   ],
   "source": [
    "image_data = read_data()\n",
    "print (image_data.shape)\n",
    "\n",
    "\n"
   ]
  },
  {
   "cell_type": "code",
   "execution_count": 4,
   "metadata": {
    "collapsed": false,
    "scrolled": true
   },
   "outputs": [
    {
     "name": "stdout",
     "output_type": "stream",
     "text": [
      "Here\n"
     ]
    },
    {
     "data": {
      "image/png": "[encoded data removed]",
      "text/plain": [
       "<matplotlib.figure.Figure at 0x10aa16eb8>"
      ]
     },
     "metadata": {},
     "output_type": "display_data"
    }
   ],
   "source": [
    "import matplotlib.pyplot as plt\n",
    "mean_image = np.mean(image_data,axis = 0,dtype = 'float32')\n",
    "print (\"Here\")\n",
    "image_data = image_data- mean_image\n",
    "plt.imshow(mean_image.astype('uint8'))\n",
    "plt.show()"
   ]
  },
  {
   "cell_type": "code",
   "execution_count": 5,
   "metadata": {
    "collapsed": true
   },
   "outputs": [],
   "source": [
    "### Converting RGB TO GRAYSCALE DEMO MODEL\n",
    "\n",
    "def simple_rgb_to_gray(X,Y):\n",
    "\tWconv1 = tf.get_variable(\"Wconv1\", shape=[1, 1, 3, 1])\n",
    "\tbconv1 = tf.get_variable(\"bconv1\", shape=[1])\n",
    "\ty_out = tf.nn.conv2d(X, Wconv1, strides=[1,1,1,1], padding='SAME')\n",
    "\t#y_out = y_out[:,:,:,0]\n",
    "\treturn y_out\n",
    "\n",
    "def rgb2gray(rgb):\n",
    "    a = np.dot(rgb[...,:3], [0.299, 0.587, 0.114])\n",
    "    return a[:,:,:,np.newaxis]\n"
   ]
  },
  {
   "cell_type": "code",
   "execution_count": 6,
   "metadata": {
    "collapsed": false
   },
   "outputs": [
    {
     "name": "stdout",
     "output_type": "stream",
     "text": [
      "7.29879e+09\n",
      "3.42741e+07\n",
      "199325.0\n",
      "358.674\n",
      "3.52261\n",
      "0.0160818\n",
      "0.000889551\n",
      "6.18149e-06\n",
      "2.14312e-06\n",
      "1.68693e-06\n",
      "1.98715e-06\n",
      "2.18504e-06\n"
     ]
    }
   ],
   "source": [
    "tf.reset_default_graph()\n",
    "X = tf.placeholder(tf.float32, [None, 64, 64, 3])\n",
    "Y = tf.placeholder(tf.float32 ,[None , 64,64,1])\n",
    "y_out = simple_rgb_to_gray(X,Y)\n",
    "loss = tf.nn.l2_loss(y_out - Y)\n",
    "optimiser = tf.train.AdamOptimizer(0.4)\n",
    "train_step = optimiser.minimize(loss)\n",
    "\n",
    "sess = tf.Session()\n",
    "sess.run(tf.global_variables_initializer())\n",
    "\n",
    "\n",
    "for i in range(600):\n",
    "    \n",
    "\tfeed_dict = {X: image_data[i*100:100*i+100], Y: rgb2gray(image_data[i*100:i*100+100])}\n",
    "\tlosses,_ = sess.run([loss,train_step],feed_dict)\n",
    "\tif(i%50 ==0):\n",
    "\t\tprint (losses)"
   ]
  },
  {
   "cell_type": "code",
   "execution_count": 7,
   "metadata": {
    "collapsed": false
   },
   "outputs": [
    {
     "name": "stdout",
     "output_type": "stream",
     "text": [
      "['Wconv1:0', 'bconv1:0']\n",
      "[[[[ 0.29900002]\n",
      "   [ 0.58699995]\n",
      "   [ 0.11400003]]]]\n",
      "Observe that weights are close to [0.299,0.587,0.114] , hence it learns rgb to gray conversion\n"
     ]
    }
   ],
   "source": [
    "var  = tf.trainable_variables()\n",
    "var = [v.name for v in tf.trainable_variables() ]\n",
    "print (var)\n",
    "numpy_val = sess.run([var[0]])\n",
    "weights = np.asarray(numpy_val[0])\n",
    "print (weights)\n",
    "\n",
    "print (\"Observe that weights are close to [0.299,0.587,0.114] , hence it learns rgb to gray conversion\")"
   ]
  },
  {
   "cell_type": "code",
   "execution_count": 8,
   "metadata": {
    "collapsed": true
   },
   "outputs": [],
   "source": [
    "def baselinish(X,Y,is_training):\n",
    "    \n",
    "    W_conv = tf.get_variable(\"Wconv\",shape = [3,3,1,32])\n",
    "    b_conv = tf.get_variable(\"bconv\",shape = [32])\n",
    "    a1 = tf.nn.conv2d(X, W_conv, strides=[1,1,1,1], padding='SAME') + b_conv\n",
    "    a1 = tf.nn.relu(a1)\n",
    "    #a1 = tf.contrib.layers.batch_norm(a1,center = True, scale = True, is_training = is_training,scope = 'bn1')\n",
    "    #a1 = tf.nn.max_pool(a1,ksize = [1,2,2,1],strides = [1,2,2,1],padding = 'VALID')\n",
    "    \n",
    "    W_conv2 = tf.get_variable(\"Wconv2\",shape = [3,3,32,64])\n",
    "    b_conv2 = tf.get_variable(\"bconv2\",shape = [64])\n",
    "    a1 = tf.nn.conv2d(a1, W_conv2, strides=[1,1,1,1], padding='SAME') + b_conv2\n",
    "    a1 = tf.nn.relu(a1)\n",
    "    #a1 = tf.contrib.layers.batch_norm(a1,center = True, scale = True, is_training = is_training,scope = 'bn2')\n",
    "    \n",
    "    W_conv3 = tf.get_variable(\"Wconv3\",shape = [3,3,64,3])\n",
    "    b_conv3 = tf.get_variable(\"bconv3\",shape = [3])\n",
    "    a1 = tf.nn.conv2d(a1, W_conv3, strides=[1,1,1,1], padding='SAME') + b_conv3\n",
    "    \n",
    "    return a1\n",
    "    \n",
    "    #a1 = tf.nn.relu(a1)\n",
    "    #a1 = tf.contrib.layers.batch_norm(a1,center = True, scale = True, is_training = is_training,scope = 'bn3')\n",
    "    \n",
    "    \n"
   ]
  },
  {
   "cell_type": "code",
   "execution_count": 9,
   "metadata": {
    "collapsed": false
   },
   "outputs": [
    {
     "name": "stdout",
     "output_type": "stream",
     "text": [
      "2.82477e+09\n"
     ]
    }
   ],
   "source": [
    "\n",
    "tf.reset_default_graph()\n",
    "X = tf.placeholder(tf.float32, [None, 64, 64,1])\n",
    "Y = tf.placeholder(tf.float32 ,[None , 64,64,3])\n",
    "is_training = True;\n",
    "y_out = baselinish(X,Y,is_training)\n",
    "loss = tf.nn.l2_loss(y_out - Y)\n",
    "optimiser = tf.train.AdamOptimizer(0.1)\n",
    "train_step = optimiser.minimize(loss)\n",
    "\n",
    "sess = tf.Session()\n",
    "sess.run(tf.global_variables_initializer())\n",
    "\n",
    "\n",
    "for i in range(1):\n",
    "    \n",
    "\tfeed_dict = {Y: image_data[i*100:100*i+100], X: rgb2gray(image_data[i*100:i*100+100])}\n",
    "\tlosses,_ = sess.run([loss,train_step],feed_dict)\n",
    "\tif(i%5 ==0):\n",
    "\t\tprint (losses)"
   ]
  },
  {
   "cell_type": "code",
   "execution_count": null,
   "metadata": {
    "collapsed": false
   },
   "outputs": [
    {
     "name": "stdout",
     "output_type": "stream",
     "text": [
      "3.11436e+09\n",
      "8.53017e+08\n",
      "4.20555e+08\n",
      "3.62706e+08\n",
      "3.05249e+08\n",
      "3.15915e+08\n",
      "2.32528e+08\n",
      "3.86798e+08\n",
      "2.72259e+08\n",
      "2.19203e+08\n",
      "3.26696e+08\n",
      "2.43652e+08\n",
      "1.70487e+08\n",
      "2.21264e+09\n",
      "9.32889e+08\n",
      "6.44976e+08\n",
      "3.43498e+08\n",
      "3.82208e+08\n",
      "5.84535e+08\n",
      "4.65194e+08\n",
      "2.42241e+08\n",
      "2.81215e+08\n",
      "3.12711e+08\n",
      "1.07634e+09\n",
      "8.40695e+08\n",
      "3.66514e+08\n",
      "2.97062e+08\n",
      "3.07445e+08\n",
      "2.42532e+08\n",
      "2.1803e+08\n",
      "1.97032e+08\n",
      "1.92416e+08\n",
      "1.7182e+08\n",
      "1.36665e+08\n",
      "2.23089e+08\n",
      "2.45123e+08\n",
      "6.01583e+08\n",
      "6.76351e+08\n",
      "8.45727e+08\n",
      "4.71946e+08\n",
      "3.90021e+08\n",
      "3.38588e+08\n",
      "3.86434e+08\n",
      "4.10379e+08\n",
      "5.85703e+08\n",
      "6.93059e+08\n",
      "6.12982e+08\n",
      "4.26819e+08\n",
      "2.00008e+08\n",
      "2.29568e+08\n",
      "2.39413e+08\n",
      "1.74989e+08\n"
     ]
    }
   ],
   "source": [
    "tf.reset_default_graph()\n",
    "X = tf.placeholder(tf.float32, [None, 64, 64,1])\n",
    "Y = tf.placeholder(tf.float32 ,[None , 64,64,3])\n",
    "is_training = tf.placeholder(tf.bool)\n",
    "with tf.variable_scope(\"model\") as scope:\n",
    "    train_model = baselinish(X,Y,is_training)\n",
    "    loss = tf.nn.l2_loss(train_model-Y)\n",
    "    optimiser = tf.train.AdamOptimizer(0.01)\n",
    "    train_step = optimiser.minimize(loss)\n",
    "\n",
    "    scope.reuse_variables()\n",
    "    test_model = baselinish(X,Y,is_training)\n",
    "    loss_test = tf.nn.l2_loss(test_model - Y)\n",
    "\n",
    "sess = tf.Session()\n",
    "sess.run(tf.global_variables_initializer())\n",
    "\n",
    "X_small_train = image_data[0:60000]\n",
    "X_small_test = image_data[60000:70000]\n",
    "\n",
    "def train_epoch(data):\n",
    "    sizee = data.shape[0]\n",
    "    batch_size = 100\n",
    "    for i in range(sizee//batch_size):\n",
    "        feed_dict = {Y: data[i*batch_size:batch_size*i+batch_size], X: rgb2gray(data[i*batch_size:batch_size*i+batch_size]),is_training:True}\n",
    "        losses,_ = sess.run([loss,train_step],feed_dict)\n",
    "        if(i%5==0):\n",
    "            print (losses)\n",
    "\n",
    "  \n",
    "\n",
    "def val_result(data):\n",
    "    sizee = data.shape[0]\n",
    "    batch_size = 100\n",
    "    for i in range(sizee//batch_size):\n",
    "        feed_dict = {Y: data[i*batch_size:batch_size*i+batch_size], X: rgb2gray(data[i*batch_size:batch_size*i+batch_size]),is_training:False}\n",
    "        losses = sess.run([loss_test],feed_dict)\n",
    "        if(i%5 ==0):\n",
    "            print (losses)\n",
    "\n",
    "num_epochs = 2\n",
    "for i in range(num_epochs):\n",
    "    train_epoch(X_small_train)\n",
    "    val_result(X_small_test)\n",
    "\n",
    "    \n",
    "\n"
   ]
  },
  {
   "cell_type": "code",
   "execution_count": null,
   "metadata": {
    "collapsed": false
   },
   "outputs": [],
   "source": [
    "### Image visualisation\n",
    "import matplotlib.pyplot as plt\n",
    "import numpy.random as rnd\n",
    "\n",
    "def rgb2gray2(rgb):\n",
    "    a = np.dot(rgb[...,:3], [0.299, 0.587, 0.114])\n",
    "    return a\n",
    "\n",
    "rand_indices = np.random.choice(2000,10)\n",
    "sample_images = X_small_train[rand_indices]\n",
    "print (sample_images.shape)\n",
    "grayed_sample_images = rgb2gray2(sample_images)\n",
    "print (grayed_sample_images.shape)\n",
    "\n",
    "feed_dict = {X:grayed_sample_images[:,:,:,np.newaxis],Y:sample_images,is_training:True}\n",
    "model_generated_images = sess.run([test_model,loss_test],feed_dict)\n",
    "print (model_generated_images[1])\n",
    "print(model_generated_images[0].shape)\n",
    "\n",
    "def show_images(images,gray = False):\n",
    "\n",
    "    \n",
    "    if(gray):\n",
    "        plt.subplot(221)\n",
    "        plt.imshow(images[0],cmap = plt.get_cmap('gray'))\n",
    "        plt.subplot(222)\n",
    "        plt.imshow(images[1], cmap = plt.get_cmap('gray'))\n",
    "        plt.subplot(223)\n",
    "        plt.imshow(images[2], cmap = plt.get_cmap('gray'))\n",
    "        plt.subplot(224)\n",
    "        plt.imshow(images[3], cmap = plt.get_cmap('gray'))\n",
    "    else :\n",
    "        plt.subplot(221)\n",
    "        plt.imshow(images[0]);\n",
    "        plt.subplot(222)\n",
    "        plt.imshow(images[1])\n",
    "        plt.subplot(223)\n",
    "        plt.imshow(images[2])\n",
    "        plt.subplot(224)\n",
    "        plt.imshow(images[3])\n",
    "\n",
    "    plt.show()\n",
    "    \n",
    "    \n",
    "show_images((sample_images+mean_image))\n",
    "show_images(grayed_sample_images + mean_image,gray = True)\n",
    "show_images(model_generated_images[0] + mean_image)\n",
    "\n",
    "    "
   ]
  },
  {
   "cell_type": "code",
   "execution_count": null,
   "metadata": {
    "collapsed": true
   },
   "outputs": [],
   "source": []
  },
  {
   "cell_type": "code",
   "execution_count": null,
   "metadata": {
    "collapsed": true
   },
   "outputs": [],
   "source": []
  }
 ],
 "metadata": {
  "kernelspec": {
   "display_name": "Python 3",
   "language": "python",
   "name": "python3"
  },
  "language_info": {
   "codemirror_mode": {
    "name": "ipython",
    "version": 3
   },
   "file_extension": ".py",
   "mimetype": "text/x-python",
   "name": "python",
   "nbconvert_exporter": "python",
   "pygments_lexer": "ipython3",
   "version": "3.6.1"
  }
 },
 "nbformat": 4,
 "nbformat_minor": 0
}
